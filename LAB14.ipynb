{
 "cells": [
  {
   "cell_type": "code",
   "execution_count": 1,
   "id": "a055315e-171a-466b-8f6a-ab38c7c7a0c5",
   "metadata": {},
   "outputs": [
    {
     "name": "stdin",
     "output_type": "stream",
     "text": [
      " ········\n"
     ]
    }
   ],
   "source": [
    "#Create a query or queries to extract the information you think may be relevant for building the prediction model. It should include some film features and some rental features.\n",
    "import pymysql\n",
    "from sqlalchemy import create_engine\n",
    "import pandas as pd\n",
    "import getpass\n",
    "import seaborn as sns\n",
    "import matplotlib.pyplot as plt\n",
    "\n",
    "password = getpass.getpass()\n",
    "\n"
   ]
  },
  {
   "cell_type": "code",
   "execution_count": 2,
   "id": "9c64b04c-da4c-4175-bfeb-442ef706e1e3",
   "metadata": {},
   "outputs": [
    {
     "data": {
      "text/html": [
       "<div>\n",
       "<style scoped>\n",
       "    .dataframe tbody tr th:only-of-type {\n",
       "        vertical-align: middle;\n",
       "    }\n",
       "\n",
       "    .dataframe tbody tr th {\n",
       "        vertical-align: top;\n",
       "    }\n",
       "\n",
       "    .dataframe thead th {\n",
       "        text-align: right;\n",
       "    }\n",
       "</style>\n",
       "<table border=\"1\" class=\"dataframe\">\n",
       "  <thead>\n",
       "    <tr style=\"text-align: right;\">\n",
       "      <th></th>\n",
       "      <th>title</th>\n",
       "      <th>film_id</th>\n",
       "      <th>rental_date</th>\n",
       "      <th>name</th>\n",
       "    </tr>\n",
       "  </thead>\n",
       "  <tbody>\n",
       "    <tr>\n",
       "      <th>0</th>\n",
       "      <td>ACADEMY DINOSAUR</td>\n",
       "      <td>1</td>\n",
       "      <td>2005-07-08 19:03:15</td>\n",
       "      <td>Documentary</td>\n",
       "    </tr>\n",
       "    <tr>\n",
       "      <th>1</th>\n",
       "      <td>ACADEMY DINOSAUR</td>\n",
       "      <td>1</td>\n",
       "      <td>2005-08-02 20:13:10</td>\n",
       "      <td>Documentary</td>\n",
       "    </tr>\n",
       "    <tr>\n",
       "      <th>2</th>\n",
       "      <td>ACADEMY DINOSAUR</td>\n",
       "      <td>1</td>\n",
       "      <td>2005-08-21 21:27:43</td>\n",
       "      <td>Documentary</td>\n",
       "    </tr>\n",
       "    <tr>\n",
       "      <th>3</th>\n",
       "      <td>ACADEMY DINOSAUR</td>\n",
       "      <td>1</td>\n",
       "      <td>2005-05-30 20:21:07</td>\n",
       "      <td>Documentary</td>\n",
       "    </tr>\n",
       "    <tr>\n",
       "      <th>4</th>\n",
       "      <td>ACADEMY DINOSAUR</td>\n",
       "      <td>1</td>\n",
       "      <td>2005-06-17 20:24:00</td>\n",
       "      <td>Documentary</td>\n",
       "    </tr>\n",
       "  </tbody>\n",
       "</table>\n",
       "</div>"
      ],
      "text/plain": [
       "              title  film_id         rental_date         name\n",
       "0  ACADEMY DINOSAUR        1 2005-07-08 19:03:15  Documentary\n",
       "1  ACADEMY DINOSAUR        1 2005-08-02 20:13:10  Documentary\n",
       "2  ACADEMY DINOSAUR        1 2005-08-21 21:27:43  Documentary\n",
       "3  ACADEMY DINOSAUR        1 2005-05-30 20:21:07  Documentary\n",
       "4  ACADEMY DINOSAUR        1 2005-06-17 20:24:00  Documentary"
      ]
     },
     "execution_count": 2,
     "metadata": {},
     "output_type": "execute_result"
    }
   ],
   "source": [
    "connection_string = 'mysql+pymysql://root:' + password + '@localhost/bank'\n",
    "engine = create_engine(connection_string)\n",
    "query = '''\n",
    "\n",
    "with forcast as (\n",
    "select\n",
    "        title,\n",
    "        film_id, \n",
    "        rental_date,\n",
    "        name\n",
    "from sakila.film A \n",
    "join sakila.inventory B using(film_id)\n",
    "join sakila.rental C using(inventory_id)\n",
    "left join sakila.film_category D using(film_id)\n",
    "left join sakila.category E using(category_id))\n",
    "\n",
    "select * from forcast'''\n",
    "\n",
    "#Read the data into a Pandas dataframe.\n",
    "data = pd.read_sql_query(query, engine)\n",
    "\n",
    "data.head()\n"
   ]
  },
  {
   "cell_type": "code",
   "execution_count": 3,
   "id": "9a086528-641f-4db7-82a1-920419312deb",
   "metadata": {},
   "outputs": [
    {
     "data": {
      "text/plain": [
       "BUCKET BROTHERHOOD     34\n",
       "ROCKETEER MOTHER       33\n",
       "RIDGEMONT SUBMARINE    32\n",
       "GRIT CLOCKWORK         32\n",
       "JUGGLER HARDLY         32\n",
       "                       ..\n",
       "FULL FLATLINERS         5\n",
       "BRAVEHEART HUMAN        5\n",
       "HARDLY ROBBERS          4\n",
       "MIXED DOORS             4\n",
       "TRAIN BUNCH             4\n",
       "Name: title, Length: 958, dtype: int64"
      ]
     },
     "execution_count": 3,
     "metadata": {},
     "output_type": "execute_result"
    }
   ],
   "source": [
    "#Analyze extracted features and transform them. You may need to encode some categorical variables, or scale numerical variables.\n",
    "data['title'].value_counts()\n"
   ]
  },
  {
   "cell_type": "code",
   "execution_count": 4,
   "id": "400a6766-8998-4811-8056-c716890a16ea",
   "metadata": {},
   "outputs": [
    {
     "data": {
      "text/plain": [
       "Sports         1179\n",
       "Animation      1166\n",
       "Action         1112\n",
       "Sci-Fi         1101\n",
       "Family         1096\n",
       "Drama          1060\n",
       "Documentary    1050\n",
       "Foreign        1033\n",
       "Games           969\n",
       "Children        945\n",
       "Comedy          941\n",
       "New             940\n",
       "Classics        939\n",
       "Horror          846\n",
       "Travel          837\n",
       "Music           830\n",
       "Name: name, dtype: int64"
      ]
     },
     "execution_count": 4,
     "metadata": {},
     "output_type": "execute_result"
    }
   ],
   "source": [
    "data['name'].value_counts()\n"
   ]
  },
  {
   "cell_type": "code",
   "execution_count": 5,
   "id": "880a002c-cf55-479f-a292-d855c05c82cb",
   "metadata": {},
   "outputs": [
    {
     "data": {
      "text/plain": [
       "(16044, 4)"
      ]
     },
     "execution_count": 5,
     "metadata": {},
     "output_type": "execute_result"
    }
   ],
   "source": [
    "data.shape"
   ]
  },
  {
   "cell_type": "code",
   "execution_count": 6,
   "id": "bafd9ec2-45eb-4f98-a17e-62d716331c09",
   "metadata": {},
   "outputs": [
    {
     "data": {
      "text/plain": [
       "title                  object\n",
       "film_id                 int64\n",
       "rental_date    datetime64[ns]\n",
       "name                   object\n",
       "dtype: object"
      ]
     },
     "execution_count": 6,
     "metadata": {},
     "output_type": "execute_result"
    }
   ],
   "source": [
    "data.dtypes"
   ]
  },
  {
   "cell_type": "code",
   "execution_count": 7,
   "id": "7297990e-0059-4ecc-9bf7-584115c4d9c1",
   "metadata": {},
   "outputs": [
    {
     "data": {
      "text/plain": [
       "title          0\n",
       "film_id        0\n",
       "rental_date    0\n",
       "name           0\n",
       "dtype: int64"
      ]
     },
     "execution_count": 7,
     "metadata": {},
     "output_type": "execute_result"
    }
   ],
   "source": [
    "data.isna().sum()"
   ]
  },
  {
   "cell_type": "code",
   "execution_count": 13,
   "id": "6ad24548-e90e-4568-8702-c1b4614293da",
   "metadata": {},
   "outputs": [
    {
     "data": {
      "text/html": [
       "<div>\n",
       "<style scoped>\n",
       "    .dataframe tbody tr th:only-of-type {\n",
       "        vertical-align: middle;\n",
       "    }\n",
       "\n",
       "    .dataframe tbody tr th {\n",
       "        vertical-align: top;\n",
       "    }\n",
       "\n",
       "    .dataframe thead th {\n",
       "        text-align: right;\n",
       "    }\n",
       "</style>\n",
       "<table border=\"1\" class=\"dataframe\">\n",
       "  <thead>\n",
       "    <tr style=\"text-align: right;\">\n",
       "      <th></th>\n",
       "      <th>title</th>\n",
       "      <th>film_id</th>\n",
       "      <th>rental_date</th>\n",
       "      <th>name</th>\n",
       "      <th>is_target_month</th>\n",
       "    </tr>\n",
       "  </thead>\n",
       "  <tbody>\n",
       "    <tr>\n",
       "      <th>0</th>\n",
       "      <td>ACADEMY DINOSAUR</td>\n",
       "      <td>1</td>\n",
       "      <td>2005-07-08 19:03:15</td>\n",
       "      <td>Documentary</td>\n",
       "      <td>False</td>\n",
       "    </tr>\n",
       "    <tr>\n",
       "      <th>1</th>\n",
       "      <td>ACADEMY DINOSAUR</td>\n",
       "      <td>1</td>\n",
       "      <td>2005-08-02 20:13:10</td>\n",
       "      <td>Documentary</td>\n",
       "      <td>False</td>\n",
       "    </tr>\n",
       "    <tr>\n",
       "      <th>2</th>\n",
       "      <td>ACADEMY DINOSAUR</td>\n",
       "      <td>1</td>\n",
       "      <td>2005-08-21 21:27:43</td>\n",
       "      <td>Documentary</td>\n",
       "      <td>False</td>\n",
       "    </tr>\n",
       "    <tr>\n",
       "      <th>3</th>\n",
       "      <td>ACADEMY DINOSAUR</td>\n",
       "      <td>1</td>\n",
       "      <td>2005-05-30 20:21:07</td>\n",
       "      <td>Documentary</td>\n",
       "      <td>True</td>\n",
       "    </tr>\n",
       "    <tr>\n",
       "      <th>4</th>\n",
       "      <td>ACADEMY DINOSAUR</td>\n",
       "      <td>1</td>\n",
       "      <td>2005-06-17 20:24:00</td>\n",
       "      <td>Documentary</td>\n",
       "      <td>False</td>\n",
       "    </tr>\n",
       "  </tbody>\n",
       "</table>\n",
       "</div>"
      ],
      "text/plain": [
       "              title  film_id         rental_date         name  is_target_month\n",
       "0  ACADEMY DINOSAUR        1 2005-07-08 19:03:15  Documentary            False\n",
       "1  ACADEMY DINOSAUR        1 2005-08-02 20:13:10  Documentary            False\n",
       "2  ACADEMY DINOSAUR        1 2005-08-21 21:27:43  Documentary            False\n",
       "3  ACADEMY DINOSAUR        1 2005-05-30 20:21:07  Documentary             True\n",
       "4  ACADEMY DINOSAUR        1 2005-06-17 20:24:00  Documentary            False"
      ]
     },
     "execution_count": 13,
     "metadata": {},
     "output_type": "execute_result"
    }
   ],
   "source": [
    "#Create a query to get the list of films and a boolean indicating if it was rented last month. This would be our target variable.\n",
    "def date_to_boolean(timestamp, target_month):\n",
    "                    month_index = timestamp.month-1\n",
    "                    return month_index ==  target_month -1\n",
    "target_month = 5\n",
    "\n",
    "data['is_target_month'] = data['rental_date'].apply(lambda x: date_to_boolean(x, target_month))\n",
    "\n",
    "data.head()"
   ]
  },
  {
   "cell_type": "code",
   "execution_count": 9,
   "id": "f2feef1b-ad9d-4740-843d-aeb211cfd964",
   "metadata": {},
   "outputs": [
    {
     "data": {
      "text/plain": [
       "False    14888\n",
       "True      1156\n",
       "Name: is_target_month, dtype: int64"
      ]
     },
     "execution_count": 9,
     "metadata": {},
     "output_type": "execute_result"
    }
   ],
   "source": [
    "data['is_target_month'].value_counts()"
   ]
  },
  {
   "cell_type": "code",
   "execution_count": 15,
   "id": "29b17ca1-bc26-42c6-ad5a-518230fbb614",
   "metadata": {},
   "outputs": [
    {
     "data": {
      "text/plain": [
       "title                      object\n",
       "film_id                     int64\n",
       "rental_date        datetime64[ns]\n",
       "name                       object\n",
       "is_target_month              bool\n",
       "dtype: object"
      ]
     },
     "execution_count": 15,
     "metadata": {},
     "output_type": "execute_result"
    }
   ],
   "source": [
    "data.dtypes"
   ]
  },
  {
   "cell_type": "code",
   "execution_count": 16,
   "id": "839eefbb-cbb7-4b29-8314-cfddbd7b0e0d",
   "metadata": {},
   "outputs": [
    {
     "data": {
      "image/png": "[encoded data removed]",
      "text/plain": [
       "<Figure size 640x480 with 2 Axes>"
      ]
     },
     "metadata": {},
     "output_type": "display_data"
    }
   ],
   "source": [
    "corr_matrix = data.corr()\n",
    "sns.heatmap(corr_matrix, annot=True)\n",
    "plt.show()"
   ]
  },
  {
   "cell_type": "code",
   "execution_count": 19,
   "id": "98385f01-f912-46e4-a28c-bd9b9cdf4fe0",
   "metadata": {},
   "outputs": [],
   "source": [
    "#Create a logistic regression model to predict this variable from the cleaned data.\n",
    "\n",
    "from sklearn.preprocessing import LabelEncoder\n",
    "from sklearn.model_selection import train_test_split\n",
    "from sklearn.linear_model import LogisticRegression\n",
    "\n",
    "# Load the cleaned data into a DataFrame\n",
    "df = data"
   ]
  },
  {
   "cell_type": "code",
   "execution_count": 20,
   "id": "085e5ab7-e08e-4fcc-969a-3acb03709d9a",
   "metadata": {},
   "outputs": [],
   "source": [
    "# Encode the categorical variable 'name'\n",
    "encoder = LabelEncoder()\n",
    "df['name_encoded'] = encoder.fit_transform(df['name'])"
   ]
  },
  {
   "cell_type": "code",
   "execution_count": 21,
   "id": "2eec44af-15b0-4691-8e27-4fe1da535439",
   "metadata": {},
   "outputs": [],
   "source": [
    "# Split the data into training and testing sets\n",
    "X_train, X_test, y_train, y_test = train_test_split(df[['film_id', 'name_encoded']], df['is_target_month'], test_size=0.4)"
   ]
  },
  {
   "cell_type": "code",
   "execution_count": 22,
   "id": "bd0e102a-ad1f-426d-b06c-e63b1e97decc",
   "metadata": {},
   "outputs": [],
   "source": [
    "# Initialize the logistic regression model\n",
    "logreg = LogisticRegression()"
   ]
  },
  {
   "cell_type": "code",
   "execution_count": 23,
   "id": "57c3f49d-5f4d-48ad-a25c-a11bcef45c43",
   "metadata": {},
   "outputs": [
    {
     "data": {
      "text/plain": [
       "LogisticRegression()"
      ]
     },
     "execution_count": 23,
     "metadata": {},
     "output_type": "execute_result"
    }
   ],
   "source": [
    "# Fit the model to the training data\n",
    "logreg.fit(X_train, y_train)"
   ]
  },
  {
   "cell_type": "code",
   "execution_count": 24,
   "id": "3caae6c8-89f6-4cb4-bc24-afaae30c4105",
   "metadata": {},
   "outputs": [
    {
     "name": "stdout",
     "output_type": "stream",
     "text": [
      "Accuracy: 0.9306637581801184\n"
     ]
    }
   ],
   "source": [
    "# Evaluate the model on the testing data\n",
    "accuracy = logreg.score(X_test, y_test)\n",
    "print(f\"Accuracy: {accuracy}\")"
   ]
  },
  {
   "cell_type": "code",
   "execution_count": 11,
   "id": "10bfb338-bbc8-4925-8119-c27ef212348d",
   "metadata": {},
   "outputs": [],
   "source": [
    "#Evaluate the results."
   ]
  },
  {
   "cell_type": "code",
   "execution_count": 26,
   "id": "c3391baf-4701-4485-bd15-c9c2208cc367",
   "metadata": {},
   "outputs": [
    {
     "data": {
      "text/plain": [
       "array([False, False, False, ..., False, False, False])"
      ]
     },
     "execution_count": 26,
     "metadata": {},
     "output_type": "execute_result"
    }
   ],
   "source": [
    "predictions = logreg.predict(X_test)\n",
    "predictions"
   ]
  },
  {
   "cell_type": "code",
   "execution_count": 27,
   "id": "e06304c8-623b-4c94-9ff7-69e4775474ea",
   "metadata": {},
   "outputs": [
    {
     "data": {
      "text/plain": [
       "False    5973\n",
       "True      445\n",
       "Name: is_target_month, dtype: int64"
      ]
     },
     "execution_count": 27,
     "metadata": {},
     "output_type": "execute_result"
    }
   ],
   "source": [
    "y_test.value_counts()"
   ]
  },
  {
   "cell_type": "code",
   "execution_count": null,
   "id": "83a1f89c-d24c-41a2-86c8-b7b522d008dc",
   "metadata": {},
   "outputs": [],
   "source": []
  }
 ],
 "metadata": {
  "kernelspec": {
   "display_name": "Python 3 (ipykernel)",
   "language": "python",
   "name": "python3"
  },
  "language_info": {
   "codemirror_mode": {
    "name": "ipython",
    "version": 3
   },
   "file_extension": ".py",
   "mimetype": "text/x-python",
   "name": "python",
   "nbconvert_exporter": "python",
   "pygments_lexer": "ipython3",
   "version": "3.9.13"
  }
 },
 "nbformat": 4,
 "nbformat_minor": 5
}
