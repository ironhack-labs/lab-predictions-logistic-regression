{
 "cells": [
  {
   "cell_type": "code",
   "execution_count": 46,
   "id": "67ec895f",
   "metadata": {},
   "outputs": [],
   "source": [
    "# These are the normal libraries\n",
    "import pandas as pd\n",
    "import numpy as np\n",
    "\n",
    "# This is just so that we don't get annoying warnings\n",
    "import warnings\n",
    "warnings.filterwarnings('ignore')\n",
    "\n",
    "# This is the most common viz library in python\n",
    "import matplotlib.pyplot as plt\n",
    "%matplotlib inline\n",
    "\n",
    "# This one is the above on steroids\n",
    "import seaborn as sns\n",
    "\n",
    "from sklearn import linear_model\n",
    "from sklearn.metrics import mean_squared_error, r2_score\n",
    "\n",
    "# These Libs are for stats\n",
    "import statsmodels.api as sm\n",
    "from statsmodels.formula.api import ols\n",
    "\n",
    "\n",
    "from sklearn.linear_model import LogisticRegression\n"
   ]
  },
  {
   "cell_type": "code",
   "execution_count": 47,
   "id": "bb648142",
   "metadata": {},
   "outputs": [
    {
     "data": {
      "text/plain": [
       "satisfaction                           int64\n",
       "customer_type                         object\n",
       "age                                    int64\n",
       "type_of_travel                        object\n",
       "class                                 object\n",
       "flight_distance                        int64\n",
       "seat_comfort                           int64\n",
       "departure/arrival_time_convenient      int64\n",
       "food_and_drink                         int64\n",
       "gate_location                          int64\n",
       "inflight_wifi_service                  int64\n",
       "inflight_entertainment                 int64\n",
       "online_support                         int64\n",
       "ease_of_online_booking                 int64\n",
       "on-board_service                       int64\n",
       "leg_room_service                       int64\n",
       "baggage_handling                       int64\n",
       "checkin_service                        int64\n",
       "cleanliness                            int64\n",
       "online_boarding                        int64\n",
       "departure_delay_in_minutes             int64\n",
       "arrival_delay_in_minutes             float64\n",
       "dtype: object"
      ]
     },
     "execution_count": 47,
     "metadata": {},
     "output_type": "execute_result"
    }
   ],
   "source": [
    "# Importing the df\n",
    "df = pd.read_csv (r\"C:\\Users\\filip\\OneDrive\\Desktop\\IRONHACK\\Week5\\archive (6)\\Invistico_Airline.csv\")\n",
    "\n",
    "# Normalizing clomun names\n",
    "cols = []\n",
    "\n",
    "for i in range(len(df.columns)):\n",
    "    cols.append(df.columns[i].lower().replace(' ','_'))\n",
    "    \n",
    "df.columns = cols\n",
    "\n",
    "# Turning target column into 1 and 0\n",
    "\n",
    "df.loc[df['satisfaction'] == 'satisfied', 'satisfaction'] = 1\n",
    "df.loc[df['satisfaction'] == 'dissatisfied', 'satisfaction'] = 0\n",
    "\n",
    "df['satisfaction'] = pd.to_numeric(df['satisfaction'])\n",
    "\n",
    "# Checking target count\n",
    "df.groupby('satisfaction').count()\n",
    "\n",
    "# Checking for null values\n",
    "df.isna().sum() # null values are 3% of the df, will drop\n",
    "df = df.dropna()\n",
    "\n",
    "# Checking for data types\n",
    "df.dtypes\n"
   ]
  },
  {
   "cell_type": "code",
   "execution_count": 48,
   "id": "a173fec3",
   "metadata": {},
   "outputs": [],
   "source": [
    "# checking for unique values in categorical columns\n",
    "df['customer_type'].unique()\n",
    "df['type_of_travel'].unique()\n",
    "df['flight_distance'].unique()\n",
    "df['class'].unique()\n",
    "\n",
    "# Converting flight distance to numerical\n",
    "df['flight_distance'] = pd.to_numeric(df['flight_distance'])\n",
    "\n",
    "\n",
    "# One hot encoding other categorical columns\n",
    "\n",
    "df_cat = df[['customer_type', 'type_of_travel','class']]\n",
    "\n",
    "df_cat = pd.get_dummies(df_cat, drop_first=False)\n",
    "df = df.drop(['customer_type', 'type_of_travel','class'], axis = 1)\n",
    "\n",
    "# Concating data frames\n",
    "df = df.reset_index(drop = True)\n",
    "df_cat = df_cat.reset_index(drop = True)\n",
    "\n",
    "df_final = pd.concat([df, df_cat], axis = 1)\n",
    "\n"
   ]
  },
  {
   "cell_type": "code",
   "execution_count": 51,
   "id": "0239265b",
   "metadata": {},
   "outputs": [
    {
     "data": {
      "text/plain": [
       "0.7596725615877674"
      ]
     },
     "execution_count": 51,
     "metadata": {},
     "output_type": "execute_result"
    }
   ],
   "source": [
    "X = df_final.drop('satisfaction', axis = 1)\n",
    "y = df_final['satisfaction']\n",
    "\n",
    "from sklearn.model_selection import train_test_split\n",
    "\n",
    "X_train, X_test, y_train, y_test = train_test_split(X, y, random_state = 42, test_size = 0.2)\n",
    "\n",
    "LR = LogisticRegression()\n",
    "LR.fit(X_train, y_train)\n",
    "\n",
    "LR.score(X_test, y_test)"
   ]
  },
  {
   "cell_type": "code",
   "execution_count": 53,
   "id": "1dff4d3a",
   "metadata": {},
   "outputs": [
    {
     "name": "stdout",
     "output_type": "stream",
     "text": [
      "Precision is 0.7722387852735214\n",
      "Recall is 0.7912197201108191\n",
      "              precision    recall  f1-score   support\n",
      "\n",
      "           0       0.74      0.72      0.73     11821\n",
      "           1       0.77      0.79      0.78     14077\n",
      "\n",
      "    accuracy                           0.76     25898\n",
      "   macro avg       0.76      0.76      0.76     25898\n",
      "weighted avg       0.76      0.76      0.76     25898\n",
      "\n"
     ]
    }
   ],
   "source": [
    "from sklearn.metrics import precision_score\n",
    "from sklearn.metrics import recall_score\n",
    "from sklearn.metrics import f1_score\n",
    "from sklearn.metrics import classification_report\n",
    "\n",
    "\n",
    "pred = LR.predict(X_test)\n",
    "\n",
    "print(\"Precision is\", precision_score(y_test, pred))\n",
    "print(\"Recall is\", recall_score(y_test, pred))\n",
    "\n",
    "print(classification_report(y_test, pred))"
   ]
  },
  {
   "cell_type": "code",
   "execution_count": 54,
   "id": "d03e5c89",
   "metadata": {},
   "outputs": [
    {
     "data": {
      "text/plain": [
       "array([[ 8536,  3285],\n",
       "       [ 2939, 11138]], dtype=int64)"
      ]
     },
     "execution_count": 54,
     "metadata": {},
     "output_type": "execute_result"
    }
   ],
   "source": [
    "from sklearn.metrics import confusion_matrix\n",
    "confusion_matrix(y_test, pred)"
   ]
  },
  {
   "cell_type": "code",
   "execution_count": null,
   "id": "75a7afc5",
   "metadata": {},
   "outputs": [],
   "source": []
  }
 ],
 "metadata": {
  "kernelspec": {
   "display_name": "Python 3 (ipykernel)",
   "language": "python",
   "name": "python3"
  },
  "language_info": {
   "codemirror_mode": {
    "name": "ipython",
    "version": 3
   },
   "file_extension": ".py",
   "mimetype": "text/x-python",
   "name": "python",
   "nbconvert_exporter": "python",
   "pygments_lexer": "ipython3",
   "version": "3.9.13"
  }
 },
 "nbformat": 4,
 "nbformat_minor": 5
}
